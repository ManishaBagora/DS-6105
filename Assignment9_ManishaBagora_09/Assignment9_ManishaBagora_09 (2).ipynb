{
 "cells": [
  {
   "cell_type": "markdown",
   "id": "3cb7a9e6",
   "metadata": {},
   "source": [
    "# Using Method of Moments (MOM) to predict values for a One-Humped Dataset"
   ]
  },
  {
   "cell_type": "code",
   "execution_count": 12,
   "id": "9b0b88e7",
   "metadata": {},
   "outputs": [],
   "source": [
    "# importing libraries\n",
    "import pandas as pd\n",
    "import numpy as np\n",
    "import matplotlib.pyplot as plt\n",
    "from scipy.stats.distributions import gamma\n",
    "%matplotlib inline"
   ]
  },
  {
   "cell_type": "code",
   "execution_count": 13,
   "id": "808eb55f",
   "metadata": {},
   "outputs": [],
   "source": [
    "#Now we have taken data set of snow of last few years in Utah"
   ]
  },
  {
   "cell_type": "code",
   "execution_count": 14,
   "id": "f838b139",
   "metadata": {},
   "outputs": [],
   "source": [
    "# Importing dataset\n",
    "df=pd.read_excel('data/Snow.xlsx')\n"
   ]
  },
  {
   "cell_type": "code",
   "execution_count": 15,
   "id": "bd9a8027",
   "metadata": {},
   "outputs": [
    {
     "data": {
      "text/html": [
       "<div>\n",
       "<style scoped>\n",
       "    .dataframe tbody tr th:only-of-type {\n",
       "        vertical-align: middle;\n",
       "    }\n",
       "\n",
       "    .dataframe tbody tr th {\n",
       "        vertical-align: top;\n",
       "    }\n",
       "\n",
       "    .dataframe thead th {\n",
       "        text-align: right;\n",
       "    }\n",
       "</style>\n",
       "<table border=\"1\" class=\"dataframe\">\n",
       "  <thead>\n",
       "    <tr style=\"text-align: right;\">\n",
       "      <th></th>\n",
       "      <th>Date</th>\n",
       "      <th>24 hr New Snow</th>\n",
       "      <th>Season Snowfall Total</th>\n",
       "      <th>Base Depth</th>\n",
       "    </tr>\n",
       "  </thead>\n",
       "  <tbody>\n",
       "    <tr>\n",
       "      <th>0</th>\n",
       "      <td>2017-01-03</td>\n",
       "      <td>46</td>\n",
       "      <td>59</td>\n",
       "      <td>188</td>\n",
       "    </tr>\n",
       "    <tr>\n",
       "      <th>1</th>\n",
       "      <td>2017-01-04</td>\n",
       "      <td>5</td>\n",
       "      <td>64</td>\n",
       "      <td>188</td>\n",
       "    </tr>\n",
       "    <tr>\n",
       "      <th>2</th>\n",
       "      <td>2017-01-05</td>\n",
       "      <td>28</td>\n",
       "      <td>92</td>\n",
       "      <td>185</td>\n",
       "    </tr>\n",
       "    <tr>\n",
       "      <th>3</th>\n",
       "      <td>2017-01-08</td>\n",
       "      <td>8</td>\n",
       "      <td>100</td>\n",
       "      <td>185</td>\n",
       "    </tr>\n",
       "    <tr>\n",
       "      <th>4</th>\n",
       "      <td>2017-01-09</td>\n",
       "      <td>13</td>\n",
       "      <td>113</td>\n",
       "      <td>185</td>\n",
       "    </tr>\n",
       "  </tbody>\n",
       "</table>\n",
       "</div>"
      ],
      "text/plain": [
       "        Date  24 hr New Snow  Season Snowfall Total  Base Depth\n",
       "0 2017-01-03              46                     59         188\n",
       "1 2017-01-04               5                     64         188\n",
       "2 2017-01-05              28                     92         185\n",
       "3 2017-01-08               8                    100         185\n",
       "4 2017-01-09              13                    113         185"
      ]
     },
     "execution_count": 15,
     "metadata": {},
     "output_type": "execute_result"
    }
   ],
   "source": [
    "df.head()"
   ]
  },
  {
   "cell_type": "code",
   "execution_count": 16,
   "id": "a2bcc51e",
   "metadata": {},
   "outputs": [
    {
     "name": "stdout",
     "output_type": "stream",
     "text": [
      "          Date  24 hr New Snow  Season Snowfall Total  Base Depth\n",
      "0   2017-01-03              46                     59         188\n",
      "1   2017-01-04               5                     64         188\n",
      "2   2017-01-05              28                     92         185\n",
      "3   2017-01-08               8                    100         185\n",
      "4   2017-01-09              13                    113         185\n",
      "..         ...             ...                    ...         ...\n",
      "580 2009-12-23              13                   1150         119\n",
      "581 2009-12-24               3                   1153         119\n",
      "582 2009-12-25               3                   1156         117\n",
      "583 2009-12-27               3                   1159         117\n",
      "584 2009-12-31              43                   1202         135\n",
      "\n",
      "[585 rows x 4 columns]\n"
     ]
    }
   ],
   "source": [
    "print(df)"
   ]
  },
  {
   "cell_type": "code",
   "execution_count": 17,
   "id": "1e705c73",
   "metadata": {},
   "outputs": [
    {
     "data": {
      "text/html": [
       "<div>\n",
       "<style scoped>\n",
       "    .dataframe tbody tr th:only-of-type {\n",
       "        vertical-align: middle;\n",
       "    }\n",
       "\n",
       "    .dataframe tbody tr th {\n",
       "        vertical-align: top;\n",
       "    }\n",
       "\n",
       "    .dataframe thead th {\n",
       "        text-align: right;\n",
       "    }\n",
       "</style>\n",
       "<table border=\"1\" class=\"dataframe\">\n",
       "  <thead>\n",
       "    <tr style=\"text-align: right;\">\n",
       "      <th></th>\n",
       "      <th>24 hr New Snow</th>\n",
       "      <th>Season Snowfall Total</th>\n",
       "      <th>Base Depth</th>\n",
       "    </tr>\n",
       "  </thead>\n",
       "  <tbody>\n",
       "    <tr>\n",
       "      <th>count</th>\n",
       "      <td>585.000000</td>\n",
       "      <td>585.000000</td>\n",
       "      <td>585.000000</td>\n",
       "    </tr>\n",
       "    <tr>\n",
       "      <th>mean</th>\n",
       "      <td>15.584615</td>\n",
       "      <td>653.923077</td>\n",
       "      <td>193.728205</td>\n",
       "    </tr>\n",
       "    <tr>\n",
       "      <th>std</th>\n",
       "      <td>12.825759</td>\n",
       "      <td>362.788335</td>\n",
       "      <td>93.929639</td>\n",
       "    </tr>\n",
       "    <tr>\n",
       "      <th>min</th>\n",
       "      <td>3.000000</td>\n",
       "      <td>3.000000</td>\n",
       "      <td>0.000000</td>\n",
       "    </tr>\n",
       "    <tr>\n",
       "      <th>25%</th>\n",
       "      <td>5.000000</td>\n",
       "      <td>420.000000</td>\n",
       "      <td>142.000000</td>\n",
       "    </tr>\n",
       "    <tr>\n",
       "      <th>50%</th>\n",
       "      <td>13.000000</td>\n",
       "      <td>598.000000</td>\n",
       "      <td>196.000000</td>\n",
       "    </tr>\n",
       "    <tr>\n",
       "      <th>75%</th>\n",
       "      <td>23.000000</td>\n",
       "      <td>862.000000</td>\n",
       "      <td>259.000000</td>\n",
       "    </tr>\n",
       "    <tr>\n",
       "      <th>max</th>\n",
       "      <td>64.000000</td>\n",
       "      <td>1923.000000</td>\n",
       "      <td>401.000000</td>\n",
       "    </tr>\n",
       "  </tbody>\n",
       "</table>\n",
       "</div>"
      ],
      "text/plain": [
       "       24 hr New Snow  Season Snowfall Total  Base Depth\n",
       "count      585.000000             585.000000  585.000000\n",
       "mean        15.584615             653.923077  193.728205\n",
       "std         12.825759             362.788335   93.929639\n",
       "min          3.000000               3.000000    0.000000\n",
       "25%          5.000000             420.000000  142.000000\n",
       "50%         13.000000             598.000000  196.000000\n",
       "75%         23.000000             862.000000  259.000000\n",
       "max         64.000000            1923.000000  401.000000"
      ]
     },
     "execution_count": 17,
     "metadata": {},
     "output_type": "execute_result"
    }
   ],
   "source": [
    "df.describe()"
   ]
  },
  {
   "cell_type": "code",
   "execution_count": 18,
   "id": "9e70d8b5",
   "metadata": {},
   "outputs": [
    {
     "data": {
      "image/png": "[encoded data removed]",
      "text/plain": [
       "<Figure size 432x288 with 4 Axes>"
      ]
     },
     "metadata": {
      "needs_background": "light"
     },
     "output_type": "display_data"
    }
   ],
   "source": [
    "# Dataset histogram \n",
    "_ = df.hist(sharex=True, sharey=True, grid=False)\n",
    "plt.tight_layout()"
   ]
  },
  {
   "cell_type": "code",
   "execution_count": 19,
   "id": "c9f8c8d4",
   "metadata": {},
   "outputs": [],
   "source": [
    "#Calculating mean and variance of the data set over all these years"
   ]
  },
  {
   "cell_type": "code",
   "execution_count": 20,
   "id": "650bbda8",
   "metadata": {},
   "outputs": [
    {
     "name": "stderr",
     "output_type": "stream",
     "text": [
      "C:\\Users\\MANISH~1\\AppData\\Local\\Temp/ipykernel_20896/2043431209.py:2: FutureWarning: DataFrame.mean and DataFrame.median with numeric_only=None will include datetime64 and datetime64tz columns in a future version.\n",
      "  df_mean=df.mean(axis=0)\n"
     ]
    },
    {
     "data": {
      "text/plain": [
       "24 hr New Snow            15.584615\n",
       "Season Snowfall Total    653.923077\n",
       "Base Depth               193.728205\n",
       "dtype: float64"
      ]
     },
     "execution_count": 20,
     "metadata": {},
     "output_type": "execute_result"
    }
   ],
   "source": [
    "# Mean of the dataset\n",
    "df_mean=df.mean(axis=0)\n",
    "df_mean"
   ]
  },
  {
   "cell_type": "code",
   "execution_count": 21,
   "id": "b4818a81",
   "metadata": {},
   "outputs": [
    {
     "data": {
      "text/plain": [
       "(24 hr New Snow           1.476475\n",
       " Season Snowfall Total    3.248977\n",
       " Base Depth               4.253833\n",
       " dtype: float64,\n",
       " 24 hr New Snow            10.555288\n",
       " Season Snowfall Total    201.270425\n",
       " Base Depth                45.542037\n",
       " dtype: float64)"
      ]
     },
     "execution_count": 21,
     "metadata": {},
     "output_type": "execute_result"
    }
   ],
   "source": [
    "# Calculating the alpha and beta \n",
    "alpha_mom=df_mean ** 2/df_variance\n",
    "beta_mom=df_variance/df_mean\n",
    "alpha_mom,beta_mom"
   ]
  },
  {
   "cell_type": "code",
   "execution_count": 22,
   "id": "489b11e9",
   "metadata": {},
   "outputs": [
    {
     "name": "stderr",
     "output_type": "stream",
     "text": [
      "C:\\Users\\MANISH~1\\AppData\\Local\\Temp/ipykernel_20896/2929161662.py:2: FutureWarning: Dropping of nuisance columns in DataFrame reductions (with 'numeric_only=None') is deprecated; in a future version this will raise TypeError.  Select only valid columns before calling the reduction.\n",
      "  df_variance=df.var()\n"
     ]
    },
    {
     "data": {
      "text/plain": [
       "24 hr New Snow              164.500105\n",
       "Season Snowfall Total    131615.375922\n",
       "Base Depth                 8822.777028\n",
       "dtype: float64"
      ]
     },
     "execution_count": 22,
     "metadata": {},
     "output_type": "execute_result"
    }
   ],
   "source": [
    "# Variance of the dataset\n",
    "df_variance=df.var()\n",
    "df_variance\n"
   ]
  },
  {
   "cell_type": "code",
   "execution_count": 23,
   "id": "ba756787",
   "metadata": {},
   "outputs": [
    {
     "data": {
      "text/plain": [
       "Date                     912 days 14:10:42.078448176\n",
       "24 hr New Snow                             12.825759\n",
       "Season Snowfall Total                     362.788335\n",
       "Base Depth                                 93.929639\n",
       "dtype: object"
      ]
     },
     "execution_count": 23,
     "metadata": {},
     "output_type": "execute_result"
    }
   ],
   "source": [
    "df_std=df.std()\n",
    "df_std"
   ]
  },
  {
   "cell_type": "code",
   "execution_count": 24,
   "id": "5b124ace",
   "metadata": {},
   "outputs": [
    {
     "data": {
      "text/plain": [
       "[<matplotlib.lines.Line2D at 0x2725718ac70>]"
      ]
     },
     "execution_count": 24,
     "metadata": {},
     "output_type": "execute_result"
    },
    {
     "data": {
      "image/png": "[encoded data removed]",
      "text/plain": [
       "<Figure size 432x288 with 1 Axes>"
      ]
     },
     "metadata": {
      "needs_background": "light"
     },
     "output_type": "display_data"
    }
   ],
   "source": [
    "from scipy.stats.distributions import gamma\n",
    "df.iloc[:,3].hist(density=True, bins=5)\n",
    "plt.plot(np.linspace(0,13), gamma.pdf(np.linspace(0, 13), alpha_mom[2], beta_mom[2]))"
   ]
  },
  {
   "cell_type": "code",
   "execution_count": null,
   "id": "c8548db7",
   "metadata": {},
   "outputs": [],
   "source": []
  },
  {
   "cell_type": "code",
   "execution_count": 25,
   "id": "8324c148",
   "metadata": {},
   "outputs": [],
   "source": [
    "\n",
    "#Now let's calculate the gamma PDF using the above computed alphas and betas!"
   ]
  },
  {
   "cell_type": "code",
   "execution_count": 26,
   "id": "20fdcbfd",
   "metadata": {},
   "outputs": [],
   "source": [
    "#We can predict more than one column with this generic function\n",
    "def predSample(sampleSize):\n",
    "    predictions = {}\n",
    "    for key in df_mean.to_dict().keys():\n",
    "        mu = df_mean.to_dict()[key]\n",
    "        sigma = df_variance.to_dict()[key]\n",
    "        key_new = key.replace('Date','Predicted')        \n",
    "        predictions[key_new] = gamma.rvs(0.1,size=sampleSize, loc=mu, scale=sigma, random_state=0)\n",
    "    return predictions "
   ]
  },
  {
   "cell_type": "code",
   "execution_count": 27,
   "id": "61bdc73f",
   "metadata": {},
   "outputs": [
    {
     "data": {
      "text/plain": [
       "array([215.59842721, 249.58472463, 195.37154204, 195.99938491])"
      ]
     },
     "execution_count": 27,
     "metadata": {},
     "output_type": "execute_result"
    }
   ],
   "source": [
    "#Predicting the future Base Depth column for next 4 dates\n",
    "prediction_values = predSample(4)\n",
    "prediction_values[\"Base Depth\"]\n"
   ]
  },
  {
   "cell_type": "code",
   "execution_count": null,
   "id": "dc1b4190",
   "metadata": {},
   "outputs": [],
   "source": []
  },
  {
   "cell_type": "code",
   "execution_count": null,
   "id": "17fa8a35",
   "metadata": {},
   "outputs": [],
   "source": []
  }
 ],
 "metadata": {
  "kernelspec": {
   "display_name": "Python 3 (ipykernel)",
   "language": "python",
   "name": "python3"
  },
  "language_info": {
   "codemirror_mode": {
    "name": "ipython",
    "version": 3
   },
   "file_extension": ".py",
   "mimetype": "text/x-python",
   "name": "python",
   "nbconvert_exporter": "python",
   "pygments_lexer": "ipython3",
   "version": "3.9.7"
  }
 },
 "nbformat": 4,
 "nbformat_minor": 5
}
